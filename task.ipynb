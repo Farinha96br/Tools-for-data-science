{
 "cells": [
  {
   "cell_type": "markdown",
   "metadata": {},
   "source": [
    "# Title of the notebook\n"
   ]
  },
  {
   "cell_type": "markdown",
   "metadata": {},
   "source": [
    "This cell is about the introduction on Jupyter notebooks"
   ]
  },
  {
   "cell_type": "markdown",
   "metadata": {},
   "source": [
    "## List of programming languages\n",
    "- Python\n",
    "- R\n",
    "- Julia\n",
    "- SQL\n",
    "- Scala\n",
    "- Java\n",
    "- MATLAB\n",
    "- SAS"
   ]
  },
  {
   "cell_type": "markdown",
   "metadata": {},
   "source": [
    "## List of Data Science Libraries\n",
    "- NumPy\n",
    "- Pandas\n",
    "- Matplotlib\n",
    "- Seaborn\n",
    "- Scikit-learn\n",
    "- TensorFlow\n",
    "- Keras\n",
    "- PyTorch\n",
    "- Statsmodels\n",
    "- NLTK"
   ]
  },
  {
   "cell_type": "markdown",
   "metadata": {},
   "source": [
    "## Table of Data Science Tools\n",
    "\n",
    "| Tool          | Description                                      |\n",
    "|---------------|--------------------------------------------------|\n",
    "| Jupyter       | Interactive computing environment                |\n",
    "| RStudio       | Integrated development environment for R         |\n",
    "| Apache Spark  | Unified analytics engine for big data processing |\n",
    "| Hadoop        | Framework for distributed storage and processing |\n",
    "| Tableau       | Data visualization tool                          |\n",
    "| Power BI      | Business analytics service by Microsoft          |\n",
    "| KNIME         | Open-source data analytics platform              |\n",
    "| RapidMiner    | Data science platform for analytics teams        |"
   ]
  },
  {
   "cell_type": "markdown",
   "metadata": {},
   "source": [
    "## Arithmetic Expression Examples\n",
    "\n",
    "Arithmetic expressions are used to perform mathematical operations. Here are some examples:\n",
    "\n",
    "- Addition: `5 + 3 = 8`\n",
    "- Subtraction: `10 - 4 = 6`\n",
    "- Multiplication: `7 * 2 = 14`\n",
    "- Division: `20 / 5 = 4`\n",
    "- Exponentiation: `2 ** 3 = 8`\n",
    "- Modulus: `10 % 3 = 1`"
   ]
  },
  {
   "cell_type": "code",
   "execution_count": 11,
   "metadata": {},
   "outputs": [
    {
     "name": "stdout",
     "output_type": "stream",
     "text": [
      "15\n",
      "310\n"
     ]
    }
   ],
   "source": [
    "# cell to multiply and add some numbers\n",
    "\n",
    "print(10 + 5)\n",
    "print(2*155)\n"
   ]
  },
  {
   "cell_type": "code",
   "execution_count": 14,
   "metadata": {},
   "outputs": [
    {
     "name": "stdout",
     "output_type": "stream",
     "text": [
      "60 min =  1.0 hours\n",
      "120 min =  2.0 hours\n"
     ]
    }
   ],
   "source": [
    "# cell to print a convertion from minute to hours\n",
    "def min_to_hours(minutes):\n",
    "    hours = minutes / 60\n",
    "    return hours\n",
    "\n",
    "print(60, \"min = \",min_to_hours(60), \"hours\")\n",
    "print(120, \"min = \",min_to_hours(120), \"hours\")\n"
   ]
  },
  {
   "cell_type": "markdown",
   "metadata": {},
   "source": [
    "# Objetives\n",
    "\n",
    "- Understand how to create Jupyter notebooks\n",
    "- Integrate basic python\n",
    "- use github"
   ]
  },
  {
   "cell_type": "markdown",
   "metadata": {},
   "source": []
  }
 ],
 "metadata": {
  "kernelspec": {
   "display_name": "Python 3",
   "language": "python",
   "name": "python3"
  },
  "language_info": {
   "codemirror_mode": {
    "name": "ipython",
    "version": 3
   },
   "file_extension": ".py",
   "mimetype": "text/x-python",
   "name": "python",
   "nbconvert_exporter": "python",
   "pygments_lexer": "ipython3",
   "version": "3.10.12"
  }
 },
 "nbformat": 4,
 "nbformat_minor": 2
}
